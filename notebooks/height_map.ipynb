{
 "cells": [
  {
   "cell_type": "code",
   "execution_count": null,
   "id": "1eddbe20",
   "metadata": {},
   "outputs": [],
   "source": [
    "import numpy as np\n",
    "import torch\n",
    "from traversability_estimation.utils import show_cloud, normalize, create_model\n",
    "from traversability_estimation.datasets import TraversabilityDataset\n",
    "from traversability_estimation.segmentation import filter_grid, filter_range\n",
    "import matplotlib.pyplot as plt\n",
    "from tqdm import tqdm\n",
    "import os"
   ]
  },
  {
   "cell_type": "code",
   "execution_count": null,
   "id": "971b8abb",
   "metadata": {},
   "outputs": [],
   "source": [
    "path = '/home/ruslan/data/bags/traversability/marv/ugv_2022-08-12-15-18-34_trav/os_cloud_node/destaggered_points/'\n",
    "assert os.path.exists(path)\n",
    "ds = TraversabilityDataset(path)\n",
    "\n",
    "# visualize a sample from the data set\n",
    "# for i in np.random.choice(range(len(ds)), 1):\n",
    "#     _ = ds.__getitem__(i, visualize=True)"
   ]
  },
  {
   "cell_type": "code",
   "execution_count": null,
   "id": "31430921",
   "metadata": {},
   "outputs": [],
   "source": [
    "len(ds)"
   ]
  },
  {
   "cell_type": "code",
   "execution_count": null,
   "id": "1f0dd0a3",
   "metadata": {},
   "outputs": [],
   "source": [
    "i = np.random.choice(range(len(ds)))\n",
    "sample = ds[i]\n",
    "depth, label, points = sample"
   ]
  },
  {
   "cell_type": "code",
   "execution_count": null,
   "id": "5c646a4c",
   "metadata": {},
   "outputs": [],
   "source": [
    "depth.shape, label.shape, points.shape"
   ]
  },
  {
   "cell_type": "code",
   "execution_count": null,
   "id": "342822fc",
   "metadata": {},
   "outputs": [],
   "source": [
    "label_filtered = label.squeeze().reshape((-1,))\n",
    "points_filtered = points.copy()\n",
    "\n",
    "min_dist, max_dist = 1.0, 10.0\n",
    "_, mask = filter_range(points, min_dist, max_dist, return_mask=True)\n",
    "points_filtered = points_filtered[mask]\n",
    "label_filtered = label_filtered[mask]\n",
    "\n",
    "grid_res = 0.5\n",
    "_, mask = filter_grid(points_filtered, grid_res, return_mask=True)\n",
    "points_filtered = points_filtered[mask]\n",
    "label_filtered = label_filtered[mask]\n",
    "\n",
    "# remove points which are above the robot\n",
    "h_max = 0.5\n",
    "mask = points_filtered[:, 2] <= h_max\n",
    "points_filtered = points_filtered[mask]\n",
    "label_filtered = label_filtered[mask]"
   ]
  },
  {
   "cell_type": "code",
   "execution_count": null,
   "id": "573d87d6",
   "metadata": {},
   "outputs": [],
   "source": [
    "H = W = round(2 * max_dist / grid_res)\n",
    "\n",
    "height_map = np.full((H, W), 0.0)\n",
    "trav_map = np.full((H, W), np.nan)\n",
    "\n",
    "height_map.shape"
   ]
  },
  {
   "cell_type": "code",
   "execution_count": null,
   "id": "cfe74299",
   "metadata": {},
   "outputs": [],
   "source": [
    "ids = (points_filtered[:, :2] - np.array([[points_filtered[:, 0].min(), points_filtered[:, 1].min()]])) // grid_res\n",
    "ids = np.asarray(ids, dtype=int)\n",
    "ids.shape"
   ]
  },
  {
   "cell_type": "code",
   "execution_count": null,
   "id": "aaf47c75",
   "metadata": {},
   "outputs": [],
   "source": [
    "min_height = points_filtered[:, 2].min()\n",
    "for i, (idx, idy) in enumerate(ids):\n",
    "    height_map[idx, idy] = points_filtered[i, 2] - min_height\n",
    "    \n",
    "    if label_filtered[i] != 255:\n",
    "        trav_map[idx, idy] = label_filtered[i]"
   ]
  },
  {
   "cell_type": "code",
   "execution_count": null,
   "id": "d71d388a",
   "metadata": {},
   "outputs": [],
   "source": [
    "plt.figure(figsize=(20, 10))\n",
    "\n",
    "plt.subplot(1, 2, 1)\n",
    "plt.imshow(height_map)\n",
    "plt.grid()\n",
    "\n",
    "plt.subplot(1, 2, 2)\n",
    "plt.imshow(trav_map)\n",
    "plt.grid()"
   ]
  },
  {
   "cell_type": "code",
   "execution_count": null,
   "id": "e802a202",
   "metadata": {},
   "outputs": [],
   "source": [
    "from mpl_toolkits.mplot3d import Axes3D\n",
    "\n",
    "x = y = np.arange(-max_dist, max_dist, grid_res)\n",
    "X, Y = np.meshgrid(x, y)\n",
    "\n",
    "fig = plt.figure()\n",
    "ax = fig.add_subplot(111, projection='3d')\n",
    "ax.plot_surface(X, Y, height_map)\n",
    "ax.set_zlim3d([-0.1, 10*h_max])\n",
    "plt.show()"
   ]
  }
 ],
 "metadata": {
  "kernelspec": {
   "display_name": "Python 3 (ipykernel)",
   "language": "python",
   "name": "python3"
  },
  "language_info": {
   "codemirror_mode": {
    "name": "ipython",
    "version": 3
   },
   "file_extension": ".py",
   "mimetype": "text/x-python",
   "name": "python",
   "nbconvert_exporter": "python",
   "pygments_lexer": "ipython3",
   "version": "3.8.12"
  }
 },
 "nbformat": 4,
 "nbformat_minor": 5
}
