{
 "cells": [
  {
   "cell_type": "markdown",
   "id": "7115b2b0",
   "metadata": {},
   "source": [
    "Follow the instructions before running the code:\n",
    "    \n",
    "https://github.com/unmannedlab/RELLIS-3D/tree/979a533262b77a29901d1fa6f747b39600d4ffd3/benchmarks"
   ]
  },
  {
   "cell_type": "code",
   "execution_count": 1,
   "id": "68b72c4c",
   "metadata": {},
   "outputs": [],
   "source": [
    "import os\n",
    "import sys\n",
    "sys.path.append('../../RELLIS-3D/benchmarks/HRNet-Semantic-Segmentation-HRNet-OCR/lib/')\n",
    "import torch"
   ]
  },
  {
   "cell_type": "code",
   "execution_count": 2,
   "id": "4e6eddc7",
   "metadata": {},
   "outputs": [],
   "source": [
    "from config import config\n",
    "from config import update_config\n",
    "from core.function import testval, test\n",
    "from utils.modelsummary import get_model_summary\n",
    "from utils.utils import create_logger, FullModel\n",
    "import models"
   ]
  },
  {
   "cell_type": "code",
   "execution_count": 3,
   "id": "bf837125",
   "metadata": {},
   "outputs": [],
   "source": [
    "model_state_file = \"../config/weights/seg_hrnet_ocr_w48_train_512x1024_sgd_lr1e-2_wd5e-4_bs_12_epoch484/best.pth\""
   ]
  },
  {
   "cell_type": "code",
   "execution_count": 4,
   "id": "e85284c6",
   "metadata": {},
   "outputs": [],
   "source": [
    "cfg_path = \"../../RELLIS-3D/benchmarks/HRNet-Semantic-Segmentation-HRNet-OCR/experiments/rellis/seg_hrnet_ocr_w48_train_512x1024_sgd_lr1e-3_wd5e-4_bs_12_epoch484.yaml\"\n",
    "\n",
    "config.defrost()\n",
    "config.merge_from_file(cfg_path)\n",
    "config.merge_from_list(['TEST.MODEL_FILE',\n",
    "                       '/home/ruslan/workspaces/traversability_ws/src/traversability_estimation/config/weights/seg_hrnet_ocr_w48_train_512x1024_sgd_lr1e-2_wd5e-4_bs_12_epoch484/best.pth'])\n",
    "config.freeze()"
   ]
  },
  {
   "cell_type": "code",
   "execution_count": 5,
   "id": "af29e67b",
   "metadata": {},
   "outputs": [
    {
     "name": "stdout",
     "output_type": "stream",
     "text": [
      "{'conv3x3_ocr.1.num_batches_tracked', 'ocr_distri_head.conv_bn_dropout.1.0.bias', 'aux_head.1.running_var', 'ocr_distri_head.object_context_block.f_object.1.0.weight', 'ocr_distri_head.object_context_block.f_pixel.3.0.running_var', 'ocr_distri_head.object_context_block.f_up.1.0.running_mean', 'ocr_distri_head.object_context_block.f_up.1.0.num_batches_tracked', 'ocr_distri_head.conv_bn_dropout.0.weight', 'ocr_distri_head.object_context_block.f_pixel.1.0.running_mean', 'aux_head.3.weight', 'ocr_distri_head.object_context_block.f_object.1.0.bias', 'aux_head.0.bias', 'ocr_distri_head.object_context_block.f_pixel.1.0.running_var', 'ocr_distri_head.conv_bn_dropout.1.0.running_var', 'ocr_distri_head.object_context_block.f_object.1.0.num_batches_tracked', 'cls_head.weight', 'ocr_distri_head.object_context_block.f_pixel.1.0.num_batches_tracked', 'conv3x3_ocr.1.running_mean', 'ocr_distri_head.object_context_block.f_pixel.3.0.weight', 'ocr_distri_head.object_context_block.f_up.1.0.weight', 'ocr_distri_head.object_context_block.f_object.1.0.running_var', 'ocr_distri_head.object_context_block.f_pixel.3.0.num_batches_tracked', 'ocr_distri_head.conv_bn_dropout.1.0.num_batches_tracked', 'aux_head.1.running_mean', 'aux_head.1.num_batches_tracked', 'conv3x3_ocr.1.running_var', 'ocr_distri_head.conv_bn_dropout.1.0.weight', 'conv3x3_ocr.0.bias', 'aux_head.3.bias', 'ocr_distri_head.object_context_block.f_down.1.0.running_mean', 'ocr_distri_head.object_context_block.f_pixel.3.0.bias', 'ocr_distri_head.object_context_block.f_down.1.0.running_var', 'ocr_distri_head.object_context_block.f_object.3.0.running_var', 'conv3x3_ocr.1.weight', 'ocr_distri_head.object_context_block.f_down.1.0.bias', 'ocr_distri_head.object_context_block.f_pixel.3.0.running_mean', 'ocr_distri_head.object_context_block.f_up.1.0.bias', 'ocr_distri_head.object_context_block.f_object.3.0.num_batches_tracked', 'ocr_distri_head.object_context_block.f_object.3.0.running_mean', 'ocr_distri_head.object_context_block.f_pixel.2.weight', 'aux_head.1.bias', 'ocr_distri_head.object_context_block.f_down.0.weight', 'ocr_distri_head.object_context_block.f_down.1.0.num_batches_tracked', 'ocr_distri_head.object_context_block.f_object.3.0.weight', 'aux_head.1.weight', 'ocr_distri_head.object_context_block.f_down.1.0.weight', 'ocr_distri_head.object_context_block.f_object.3.0.bias', 'ocr_distri_head.object_context_block.f_pixel.1.0.weight', 'ocr_distri_head.object_context_block.f_object.0.weight', 'ocr_distri_head.object_context_block.f_up.0.weight', 'ocr_distri_head.object_context_block.f_object.1.0.running_mean', 'ocr_distri_head.object_context_block.f_pixel.1.0.bias', 'conv3x3_ocr.1.bias', 'conv3x3_ocr.0.weight', 'ocr_distri_head.object_context_block.f_up.1.0.running_var', 'aux_head.0.weight', 'ocr_distri_head.conv_bn_dropout.1.0.running_mean', 'ocr_distri_head.object_context_block.f_object.2.weight', 'ocr_distri_head.object_context_block.f_pixel.0.weight', 'cls_head.bias'}\n",
      "{'incre_modules.2.0.conv1.weight', 'incre_modules.2.0.downsample.1.running_mean', 'downsamp_modules.1.1.bias', 'incre_modules.0.0.bn1.running_mean', 'incre_modules.0.0.conv1.weight', 'incre_modules.1.0.bn2.num_batches_tracked', 'incre_modules.1.0.bn2.weight', 'incre_modules.1.0.conv1.weight', 'final_layer.0.bias', 'incre_modules.0.0.bn3.weight', 'incre_modules.2.0.bn3.num_batches_tracked', 'incre_modules.0.0.downsample.1.running_var', 'incre_modules.3.0.bn1.running_var', 'downsamp_modules.0.0.weight', 'downsamp_modules.0.1.weight', 'incre_modules.2.0.bn2.weight', 'incre_modules.2.0.bn1.num_batches_tracked', 'incre_modules.2.0.downsample.1.weight', 'final_layer.1.running_var', 'incre_modules.0.0.bn1.running_var', 'final_layer.1.num_batches_tracked', 'incre_modules.0.0.bn1.num_batches_tracked', 'incre_modules.2.0.bn3.bias', 'incre_modules.3.0.bn3.bias', 'incre_modules.3.0.conv2.weight', 'incre_modules.0.0.conv3.weight', 'incre_modules.3.0.bn2.num_batches_tracked', 'incre_modules.3.0.downsample.0.weight', 'incre_modules.2.0.conv2.weight', 'incre_modules.1.0.bn3.weight', 'incre_modules.1.0.bn3.running_mean', 'incre_modules.0.0.downsample.0.weight', 'incre_modules.2.0.downsample.1.bias', 'incre_modules.3.0.downsample.1.weight', 'incre_modules.1.0.downsample.1.running_mean', 'incre_modules.1.0.bn2.bias', 'incre_modules.0.0.bn3.num_batches_tracked', 'incre_modules.1.0.bn3.bias', 'final_layer.0.weight', 'downsamp_modules.0.1.running_var', 'downsamp_modules.1.1.weight', 'incre_modules.0.0.bn2.bias', 'incre_modules.1.0.bn1.bias', 'downsamp_modules.2.1.running_mean', 'incre_modules.3.0.conv3.weight', 'incre_modules.1.0.bn1.running_var', 'incre_modules.3.0.downsample.1.running_var', 'incre_modules.0.0.bn2.running_var', 'incre_modules.3.0.bn1.bias', 'downsamp_modules.0.0.bias', 'incre_modules.2.0.bn3.running_var', 'incre_modules.1.0.downsample.1.running_var', 'incre_modules.2.0.conv3.weight', 'incre_modules.0.0.downsample.1.weight', 'downsamp_modules.2.1.bias', 'incre_modules.3.0.bn1.weight', 'incre_modules.3.0.downsample.1.running_mean', 'incre_modules.3.0.bn3.running_var', 'incre_modules.3.0.conv1.weight', 'incre_modules.0.0.bn2.num_batches_tracked', 'incre_modules.1.0.bn1.num_batches_tracked', 'incre_modules.2.0.bn1.running_var', 'incre_modules.2.0.bn3.running_mean', 'final_layer.1.running_mean', 'incre_modules.0.0.bn3.running_mean', 'incre_modules.1.0.bn3.num_batches_tracked', 'incre_modules.3.0.bn1.num_batches_tracked', 'incre_modules.0.0.conv2.weight', 'incre_modules.1.0.bn3.running_var', 'incre_modules.3.0.bn2.bias', 'incre_modules.1.0.downsample.1.bias', 'incre_modules.2.0.bn2.running_var', 'incre_modules.0.0.bn2.running_mean', 'downsamp_modules.2.0.bias', 'downsamp_modules.0.1.num_batches_tracked', 'incre_modules.1.0.bn2.running_var', 'incre_modules.0.0.downsample.1.bias', 'incre_modules.0.0.bn1.bias', 'incre_modules.2.0.bn2.num_batches_tracked', 'downsamp_modules.2.1.running_var', 'incre_modules.1.0.downsample.1.num_batches_tracked', 'incre_modules.0.0.bn3.running_var', 'incre_modules.3.0.bn3.num_batches_tracked', 'incre_modules.2.0.bn1.running_mean', 'incre_modules.0.0.bn1.weight', 'incre_modules.1.0.downsample.1.weight', 'incre_modules.3.0.bn2.weight', 'incre_modules.1.0.bn1.running_mean', 'incre_modules.2.0.bn1.weight', 'incre_modules.1.0.conv3.weight', 'classifier.bias', 'incre_modules.2.0.downsample.0.weight', 'downsamp_modules.1.1.num_batches_tracked', 'incre_modules.2.0.bn3.weight', 'incre_modules.2.0.bn2.bias', 'downsamp_modules.1.1.running_mean', 'downsamp_modules.1.0.weight', 'downsamp_modules.0.1.bias', 'classifier.weight', 'downsamp_modules.0.1.running_mean', 'incre_modules.1.0.downsample.0.weight', 'incre_modules.3.0.downsample.1.num_batches_tracked', 'incre_modules.3.0.bn3.running_mean', 'incre_modules.0.0.downsample.1.running_mean', 'incre_modules.3.0.bn2.running_mean', 'final_layer.1.weight', 'incre_modules.1.0.bn2.running_mean', 'incre_modules.1.0.bn1.weight', 'downsamp_modules.1.1.running_var', 'incre_modules.0.0.downsample.1.num_batches_tracked', 'incre_modules.0.0.bn2.weight', 'incre_modules.2.0.downsample.1.running_var', 'incre_modules.3.0.bn3.weight', 'incre_modules.2.0.downsample.1.num_batches_tracked', 'downsamp_modules.2.1.weight', 'incre_modules.2.0.bn2.running_mean', 'incre_modules.3.0.downsample.1.bias', 'downsamp_modules.2.0.weight', 'incre_modules.0.0.bn3.bias', 'downsamp_modules.1.0.bias', 'incre_modules.3.0.bn2.running_var', 'incre_modules.3.0.bn1.running_mean', 'incre_modules.1.0.conv2.weight', 'incre_modules.2.0.bn1.bias', 'downsamp_modules.2.1.num_batches_tracked', 'final_layer.1.bias'}\n"
     ]
    }
   ],
   "source": [
    "model = eval('models.' + config.MODEL.NAME + '.get_seg_model')(config)"
   ]
  },
  {
   "cell_type": "code",
   "execution_count": 6,
   "id": "854868df",
   "metadata": {},
   "outputs": [
    {
     "data": {
      "text/plain": [
       "<All keys matched successfully>"
      ]
     },
     "execution_count": 6,
     "metadata": {},
     "output_type": "execute_result"
    }
   ],
   "source": [
    "pretrained_dict = torch.load(model_state_file)\n",
    "if 'state_dict' in pretrained_dict:\n",
    "    pretrained_dict = pretrained_dict['state_dict']\n",
    "model_dict = model.state_dict()\n",
    "pretrained_dict = {k[6:]: v for k, v in pretrained_dict.items()\n",
    "                    if k[6:] in model_dict.keys()}\n",
    "model_dict.update(pretrained_dict)\n",
    "model.load_state_dict(model_dict)"
   ]
  },
  {
   "cell_type": "code",
   "execution_count": 7,
   "id": "55acbb68",
   "metadata": {},
   "outputs": [
    {
     "name": "stdout",
     "output_type": "stream",
     "text": [
      "GPUS: [0]\n"
     ]
    }
   ],
   "source": [
    "from torch import nn\n",
    "\n",
    "gpus = list(config.GPUS)\n",
    "print('GPUS:',gpus)\n",
    "model = nn.DataParallel(model, device_ids=gpus).cuda()"
   ]
  },
  {
   "cell_type": "code",
   "execution_count": 8,
   "id": "878cb00b",
   "metadata": {},
   "outputs": [],
   "source": [
    "import datasets\n",
    "\n",
    "# prepare data\n",
    "test_size = (config.TEST.IMAGE_SIZE[1], config.TEST.IMAGE_SIZE[0])\n",
    "test_dataset = eval('datasets.'+config.DATASET.DATASET)(\n",
    "                    root=config.DATASET.ROOT,\n",
    "                    list_path=config.DATASET.TEST_SET,\n",
    "                    num_samples=None,\n",
    "                    num_classes=config.DATASET.NUM_CLASSES,\n",
    "                    multi_scale=False,\n",
    "                    flip=False,\n",
    "                    ignore_label=config.TRAIN.IGNORE_LABEL,\n",
    "                    base_size=config.TEST.BASE_SIZE,\n",
    "                    crop_size=test_size,\n",
    "                    downsample_rate=1)\n",
    "\n",
    "testloader = torch.utils.data.DataLoader(test_dataset,\n",
    "                                         batch_size=1,\n",
    "                                         shuffle=False,\n",
    "                                         num_workers=config.WORKERS,\n",
    "                                         pin_memory=True)"
   ]
  },
  {
   "cell_type": "code",
   "execution_count": 9,
   "id": "2878885d",
   "metadata": {},
   "outputs": [],
   "source": [
    "import yaml\n",
    "\n",
    "data_cfg = \"../../RELLIS-3D/benchmarks/SalsaNext/train/tasks/semantic/config/labels/rellis.yaml\"\n",
    "CFG = yaml.safe_load(open(data_cfg, 'r'))\n",
    "id_color_map = CFG[\"color_map\"]"
   ]
  },
  {
   "cell_type": "code",
   "execution_count": 18,
   "id": "7db1dd60",
   "metadata": {},
   "outputs": [
    {
     "name": "stderr",
     "output_type": "stream",
     "text": [
      "  0%|                                                                                                                                               | 1/1672 [00:00<08:51,  3.14it/s]"
     ]
    },
    {
     "name": "stdout",
     "output_type": "stream",
     "text": [
      "cpu\n",
      "cpu\n"
     ]
    },
    {
     "name": "stderr",
     "output_type": "stream",
     "text": [
      "  0%|▎                                                                                                                                              | 3/1672 [00:00<04:23,  6.33it/s]"
     ]
    },
    {
     "name": "stdout",
     "output_type": "stream",
     "text": [
      "cpu\n",
      "cpu\n"
     ]
    },
    {
     "name": "stderr",
     "output_type": "stream",
     "text": [
      "  0%|▍                                                                                                                                              | 5/1672 [00:00<03:38,  7.62it/s]"
     ]
    },
    {
     "name": "stdout",
     "output_type": "stream",
     "text": [
      "cpu\n"
     ]
    },
    {
     "name": "stderr",
     "output_type": "stream",
     "text": [
      "  0%|▍                                                                                                                                              | 5/1672 [00:00<05:00,  5.55it/s]\n"
     ]
    }
   ],
   "source": [
    "from tqdm import tqdm\n",
    "from core.function import convert_label, convert_color\n",
    "from PIL import Image\n",
    "import numpy as np\n",
    "\n",
    "viz = True\n",
    "model.eval()\n",
    "\n",
    "with torch.no_grad():\n",
    "    \n",
    "    for it, batch in enumerate(tqdm(testloader)):\n",
    "        \n",
    "        if it == 5:\n",
    "            break\n",
    "        \n",
    "        image, size, name = batch\n",
    "        print(image.device)\n",
    "        \n",
    "        size = size[0]\n",
    "        pred = model(image)\n",
    "        pred = pred[config.TEST.OUTPUT_INDEX]\n",
    "        pred_np = pred.cpu().numpy()\n",
    "        b,_,_,_ = pred.shape\n",
    "        \n",
    "        for i in range(b):\n",
    "            sv_path = os.path.join(config.OUTPUT_DIR, 'hrnet',name[i][:5],'pylon_camera_node_label_id')\n",
    "            if not os.path.exists(sv_path):\n",
    "                os.makedirs(sv_path)\n",
    "            _, file_name = os.path.split(name[i])\n",
    "            file_name = file_name.replace(\"jpg\",\"png\")\n",
    "            data_path = os.path.join(sv_path,file_name)\n",
    "            pred_arg = np.argmax(pred_np[i],axis=0).astype(np.uint8)\n",
    "            pred_arg = convert_label(pred_arg, True)\n",
    "            pred_img = np.stack((pred_arg,pred_arg,pred_arg),axis=2)\n",
    "            pred_img = Image.fromarray(pred_img)\n",
    "            pred_img.save(data_path)\n",
    "            \n",
    "            if viz:\n",
    "                sv_path = os.path.join(config.OUTPUT_DIR, 'hrnet',name[i][:5],'pylon_camera_node_label_color')\n",
    "                if not os.path.exists(sv_path):\n",
    "                    os.makedirs(sv_path)\n",
    "                _, file_name = os.path.split(name[i])\n",
    "                file_name = file_name.replace(\"jpg\",\"png\")\n",
    "                color_path = os.path.join(sv_path,file_name)\n",
    "                color_label = convert_color(pred_arg, id_color_map)\n",
    "\n",
    "                color_img = Image.fromarray(color_label,'RGB')\n",
    "                color_img.save(color_path)"
   ]
  }
 ],
 "metadata": {
  "kernelspec": {
   "display_name": "Python 3 (ipykernel)",
   "language": "python",
   "name": "python3"
  },
  "language_info": {
   "codemirror_mode": {
    "name": "ipython",
    "version": 3
   },
   "file_extension": ".py",
   "mimetype": "text/x-python",
   "name": "python",
   "nbconvert_exporter": "python",
   "pygments_lexer": "ipython3",
   "version": "3.8.12"
  }
 },
 "nbformat": 4,
 "nbformat_minor": 5
}
