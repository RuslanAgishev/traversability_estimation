{
 "cells": [
  {
   "cell_type": "markdown",
   "id": "7115b2b0",
   "metadata": {},
   "source": [
    "Follow the instructions before running the code:\n",
    "    \n",
    "https://github.com/unmannedlab/RELLIS-3D/tree/979a533262b77a29901d1fa6f747b39600d4ffd3/benchmarks"
   ]
  },
  {
   "cell_type": "code",
   "execution_count": null,
   "id": "2255b99a",
   "metadata": {
    "pycharm": {
     "name": "#%%\n"
    }
   },
   "outputs": [],
   "source": [
    "import os\n",
    "import torch\n",
    "from hrnet.config import config\n",
    "from hrnet.config import update_config\n",
    "from hrnet.core.function import testval, test\n",
    "from hrnet.utils.modelsummary import get_model_summary\n",
    "from hrnet.utils.utils import create_logger, FullModel\n",
    "from hrnet import models"
   ]
  },
  {
   "cell_type": "code",
   "execution_count": null,
   "id": "12f7e3e9",
   "metadata": {
    "pycharm": {
     "name": "#%%\n"
    }
   },
   "outputs": [],
   "source": [
    "cfg_path = \"../config/hrnet_rellis/seg_hrnet_ocr_w48_train_512x1024_sgd_lr1e-2_wd5e-4_bs_12_epoch484.yaml\"\n",
    "\n",
    "config.defrost()\n",
    "config.merge_from_file(cfg_path)\n",
    "config.merge_from_list(['TEST.MODEL_FILE',\n",
    "                        '../config/weights/seg_hrnet_ocr_w48_train_512x1024_sgd_lr1e-2_wd5e-4_bs_12_epoch484/best.pth'])\n",
    "config.freeze()"
   ]
  },
  {
   "cell_type": "code",
   "execution_count": null,
   "id": "e80bd25a",
   "metadata": {
    "pycharm": {
     "name": "#%%\n"
    }
   },
   "outputs": [],
   "source": [
    "model = eval('models.' + config.MODEL.NAME + '.get_seg_model')(config)\n",
    "model_state_file = \"../config/weights/seg_hrnet_ocr_w48_train_512x1024_sgd_lr1e-2_wd5e-4_bs_12_epoch484/best.pth\"\n",
    "\n",
    "pretrained_dict = torch.load(model_state_file)\n",
    "if 'state_dict' in pretrained_dict:\n",
    "    pretrained_dict = pretrained_dict['state_dict']\n",
    "model_dict = model.state_dict()\n",
    "pretrained_dict = {k[6:]: v for k, v in pretrained_dict.items()\n",
    "                   if k[6:] in model_dict.keys()}\n",
    "model_dict.update(pretrained_dict)\n",
    "model.load_state_dict(model_dict)"
   ]
  },
  {
   "cell_type": "code",
   "execution_count": null,
   "id": "2f03e1d5",
   "metadata": {
    "pycharm": {
     "name": "#%%\n"
    }
   },
   "outputs": [],
   "source": [
    "from torch import nn\n",
    "\n",
    "# gpus = list(config.GPUS)\n",
    "gpus = [0]\n",
    "print('GPUS:', gpus)\n",
    "model = nn.DataParallel(model, device_ids=gpus).cuda()"
   ]
  },
  {
   "cell_type": "code",
   "execution_count": null,
   "id": "34fee1ff",
   "metadata": {
    "pycharm": {
     "name": "#%%\n"
    }
   },
   "outputs": [],
   "source": [
    "from hrnet import datasets\n",
    "\n",
    "# prepare data\n",
    "test_dataset = eval('datasets.' + config.DATASET.DATASET)(\n",
    "    root=config.DATASET.ROOT,\n",
    "    list_path='test.lst',\n",
    "    num_samples=None,\n",
    "    num_classes=config.DATASET.NUM_CLASSES,\n",
    "    # num_classes=20,\n",
    "    multi_scale=False,\n",
    "    flip=False,\n",
    "    ignore_label=config.TRAIN.IGNORE_LABEL,\n",
    "    base_size=1280,\n",
    "    crop_size=(704, 1280),\n",
    "    downsample_rate=1)\n",
    "\n",
    "testloader = torch.utils.data.DataLoader(test_dataset,\n",
    "                                         batch_size=1,\n",
    "                                         shuffle=False,\n",
    "                                         num_workers=config.WORKERS,\n",
    "                                         pin_memory=True)"
   ]
  },
  {
   "cell_type": "code",
   "execution_count": null,
   "id": "b487af46",
   "metadata": {
    "pycharm": {
     "name": "#%%\n"
    }
   },
   "outputs": [],
   "source": [
    "import yaml\n",
    "\n",
    "data_cfg = \"../config/rellis.yaml\"\n",
    "CFG = yaml.safe_load(open(data_cfg, 'r'))\n",
    "id_color_map = CFG[\"color_map\"]"
   ]
  },
  {
   "cell_type": "code",
   "execution_count": null,
   "id": "d5c4c98f",
   "metadata": {
    "pycharm": {
     "name": "#%%\n"
    }
   },
   "outputs": [],
   "source": [
    "from tqdm import tqdm\n",
    "from hrnet.core.function import convert_label, convert_color\n",
    "from PIL import Image\n",
    "import numpy as np\n",
    "import matplotlib.pyplot as plt\n",
    "\n",
    "viz = True\n",
    "model.eval()\n",
    "\n",
    "with torch.no_grad():\n",
    "    for it, batch in enumerate(tqdm(testloader)):\n",
    "\n",
    "        if it == 50:\n",
    "            break\n",
    "        \n",
    "        image, mask = batch[:2]\n",
    "\n",
    "        pred = model(image)\n",
    "        print(pred.shape)\n",
    "        pred = pred[config.TEST.OUTPUT_INDEX]\n",
    "        pred_np = pred.cpu().numpy()\n",
    "        b = pred.shape[0]\n",
    "\n",
    "        for i in range(b):\n",
    "            pred_arg = np.argmax(pred_np[i], axis=0).astype(np.uint8)\n",
    "            pred_arg = convert_label(pred_arg, True)\n",
    "\n",
    "            color_label = convert_color(pred_arg, id_color_map)\n",
    "            color_img = Image.fromarray(color_label, 'RGB')\n",
    "\n",
    "            if it % 10 == 0:\n",
    "                plt.figure()\n",
    "                plt.imshow(color_label)\n",
    "                plt.show()"
   ]
  }
 ],
 "metadata": {
  "kernelspec": {
   "display_name": "Python 3 (ipykernel)",
   "language": "python",
   "name": "python3"
  },
  "language_info": {
   "codemirror_mode": {
    "name": "ipython",
    "version": 3
   },
   "file_extension": ".py",
   "mimetype": "text/x-python",
   "name": "python",
   "nbconvert_exporter": "python",
   "pygments_lexer": "ipython3",
   "version": "3.8.8"
  }
 },
 "nbformat": 4,
 "nbformat_minor": 5
}
