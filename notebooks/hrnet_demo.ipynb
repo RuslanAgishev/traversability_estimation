{
 "cells": [
  {
   "cell_type": "markdown",
   "id": "7115b2b0",
   "metadata": {},
   "source": [
    "Follow the instructions before running the code:\n",
    "    \n",
    "https://github.com/unmannedlab/RELLIS-3D/tree/979a533262b77a29901d1fa6f747b39600d4ffd3/benchmarks"
   ]
  },
  {
   "cell_type": "code",
   "execution_count": null,
   "outputs": [],
   "source": [
    "import os\n",
    "import torch"
   ],
   "metadata": {
    "collapsed": false,
    "pycharm": {
     "name": "#%%\n"
    }
   }
  },
  {
   "cell_type": "code",
   "execution_count": null,
   "outputs": [],
   "source": [
    "from hrnet.config import config\n",
    "from hrnet.config import update_config\n",
    "from hrnet.core.function import testval, test\n",
    "from hrnet.utils.modelsummary import get_model_summary\n",
    "from hrnet.utils.utils import create_logger, FullModel\n",
    "from hrnet import models"
   ],
   "metadata": {
    "collapsed": false,
    "pycharm": {
     "name": "#%%\n"
    }
   }
  },
  {
   "cell_type": "code",
   "execution_count": null,
   "outputs": [],
   "source": [
    "model_state_file = \"../config/weights/seg_hrnet_ocr_w48_train_512x1024_sgd_lr1e-2_wd5e-4_bs_12_epoch484/best.pth\""
   ],
   "metadata": {
    "collapsed": false,
    "pycharm": {
     "name": "#%%\n"
    }
   }
  },
  {
   "cell_type": "code",
   "execution_count": null,
   "outputs": [],
   "source": [
    "cfg_path = \"../config/hrnet_rellis/seg_hrnet_ocr_w48_train_512x1024_sgd_lr1e-3_wd5e-4_bs_12_epoch484.yaml\"\n",
    "\n",
    "config.defrost()\n",
    "config.merge_from_file(cfg_path)\n",
    "config.merge_from_list(['TEST.MODEL_FILE',\n",
    "                        '../config/weights/seg_hrnet_ocr_w48_train_512x1024_sgd_lr1e-2_wd5e-4_bs_12_epoch484/best.pth'])\n",
    "config.freeze()"
   ],
   "metadata": {
    "collapsed": false,
    "pycharm": {
     "name": "#%%\n"
    }
   }
  },
  {
   "cell_type": "code",
   "execution_count": null,
   "outputs": [],
   "source": [
    "model = eval('models.' + config.MODEL.NAME + '.get_seg_model')(config)"
   ],
   "metadata": {
    "collapsed": false,
    "pycharm": {
     "name": "#%%\n"
    }
   }
  },
  {
   "cell_type": "code",
   "execution_count": null,
   "outputs": [],
   "source": [
    "pretrained_dict = torch.load(model_state_file)\n",
    "if 'state_dict' in pretrained_dict:\n",
    "    pretrained_dict = pretrained_dict['state_dict']\n",
    "model_dict = model.state_dict()\n",
    "pretrained_dict = {k[6:]: v for k, v in pretrained_dict.items()\n",
    "                   if k[6:] in model_dict.keys()}\n",
    "model_dict.update(pretrained_dict)\n",
    "model.load_state_dict(model_dict)"
   ],
   "metadata": {
    "collapsed": false,
    "pycharm": {
     "name": "#%%\n"
    }
   }
  },
  {
   "cell_type": "code",
   "execution_count": null,
   "outputs": [],
   "source": [
    "from torch import nn\n",
    "\n",
    "gpus = list(config.GPUS)\n",
    "print('GPUS:', gpus)\n",
    "model = nn.DataParallel(model, device_ids=gpus).cuda()"
   ],
   "metadata": {
    "collapsed": false,
    "pycharm": {
     "name": "#%%\n"
    }
   }
  },
  {
   "cell_type": "code",
   "execution_count": null,
   "outputs": [],
   "source": [
    "from hrnet import datasets\n",
    "\n",
    "# prepare data\n",
    "test_size = (config.TEST.IMAGE_SIZE[1], config.TEST.IMAGE_SIZE[0])\n",
    "test_dataset = eval('datasets.' + config.DATASET.DATASET)(\n",
    "    root=config.DATASET.ROOT,\n",
    "    list_path=config.DATASET.TEST_SET,\n",
    "    num_samples=None,\n",
    "    num_classes=config.DATASET.NUM_CLASSES,\n",
    "    multi_scale=False,\n",
    "    flip=False,\n",
    "    ignore_label=config.TRAIN.IGNORE_LABEL,\n",
    "    base_size=config.TEST.BASE_SIZE,\n",
    "    crop_size=test_size,\n",
    "    downsample_rate=1)\n",
    "\n",
    "testloader = torch.utils.data.DataLoader(test_dataset,\n",
    "                                         batch_size=1,\n",
    "                                         shuffle=False,\n",
    "                                         num_workers=config.WORKERS,\n",
    "                                         pin_memory=True)"
   ],
   "metadata": {
    "collapsed": false,
    "pycharm": {
     "name": "#%%\n"
    }
   }
  },
  {
   "cell_type": "code",
   "execution_count": null,
   "outputs": [],
   "source": [
    "import yaml\n",
    "\n",
    "data_cfg = \"../config/rellis.yaml\"\n",
    "CFG = yaml.safe_load(open(data_cfg, 'r'))\n",
    "id_color_map = CFG[\"color_map\"]"
   ],
   "metadata": {
    "collapsed": false,
    "pycharm": {
     "name": "#%%\n"
    }
   }
  },
  {
   "cell_type": "code",
   "execution_count": null,
   "outputs": [],
   "source": [
    "from tqdm import tqdm\n",
    "from hrnet.core.function import convert_label, convert_color\n",
    "from PIL import Image\n",
    "import numpy as np\n",
    "import matplotlib.pyplot as plt\n",
    "\n",
    "viz = True\n",
    "model.eval()\n",
    "\n",
    "with torch.no_grad():\n",
    "    for it, batch in enumerate(tqdm(testloader)):\n",
    "\n",
    "        if it == 500:\n",
    "            break\n",
    "\n",
    "        image, size, name = batch\n",
    "\n",
    "        size = size[0]\n",
    "        pred = model(image)\n",
    "        pred = pred[config.TEST.OUTPUT_INDEX]\n",
    "        pred_np = pred.cpu().numpy()\n",
    "        b, _, _, _ = pred.shape\n",
    "\n",
    "        for i in range(b):\n",
    "            sv_path = os.path.join(config.OUTPUT_DIR, 'hrnet', name[i][:5], 'pylon_camera_node_label_id')\n",
    "            if not os.path.exists(sv_path):\n",
    "                os.makedirs(sv_path)\n",
    "            _, file_name = os.path.split(name[i])\n",
    "            file_name = file_name.replace(\"jpg\", \"png\")\n",
    "            data_path = os.path.join(sv_path, file_name)\n",
    "            pred_arg = np.argmax(pred_np[i], axis=0).astype(np.uint8)\n",
    "            pred_arg = convert_label(pred_arg, True)\n",
    "            pred_img = np.stack((pred_arg, pred_arg, pred_arg), axis=2)\n",
    "            pred_img = Image.fromarray(pred_img)\n",
    "            pred_img.save(data_path)\n",
    "\n",
    "            if viz:\n",
    "                sv_path = os.path.join(config.OUTPUT_DIR, 'hrnet', name[i][:5], 'pylon_camera_node_label_color')\n",
    "                if not os.path.exists(sv_path):\n",
    "                    os.makedirs(sv_path)\n",
    "                _, file_name = os.path.split(name[i])\n",
    "                file_name = file_name.replace(\"jpg\", \"png\")\n",
    "                color_path = os.path.join(sv_path, file_name)\n",
    "                color_label = convert_color(pred_arg, id_color_map)\n",
    "\n",
    "                color_img = Image.fromarray(color_label, 'RGB')\n",
    "                color_img.save(color_path)\n",
    "\n",
    "        if it % 100 == 0:\n",
    "            plt.figure()\n",
    "            plt.imshow(color_label)\n",
    "            plt.show()"
   ],
   "metadata": {
    "collapsed": false,
    "pycharm": {
     "name": "#%%\n"
    }
   }
  }
 ],
 "metadata": {
  "kernelspec": {
   "display_name": "Python 3 (ipykernel)",
   "language": "python",
   "name": "python3"
  },
  "language_info": {
   "codemirror_mode": {
    "name": "ipython",
    "version": 3
   },
   "file_extension": ".py",
   "mimetype": "text/x-python",
   "name": "python",
   "nbconvert_exporter": "python",
   "pygments_lexer": "ipython3",
   "version": "3.8.12"
  }
 },
 "nbformat": 4,
 "nbformat_minor": 5
}